{
 "cells": [
  {
   "cell_type": "code",
   "execution_count": 2,
   "metadata": {},
   "outputs": [],
   "source": [
    "import numpy as np\n",
    "import pandas as pd\n",
    "import pickle"
   ]
  },
  {
   "cell_type": "code",
   "execution_count": 3,
   "metadata": {},
   "outputs": [],
   "source": [
    "rare = sorted(['conventional_mine', 'blow_down', 'slash_burn', 'blooming', 'artisinal_mine', 'selective_logging', 'bare_ground'])"
   ]
  },
  {
   "cell_type": "code",
   "execution_count": 12,
   "metadata": {},
   "outputs": [],
   "source": [
    "TEST_CSV_PATH = 'sample_submission_v2.csv'\n",
    "df_test = pd.read_csv(TEST_CSV_PATH)"
   ]
  },
  {
   "cell_type": "code",
   "execution_count": 55,
   "metadata": {},
   "outputs": [],
   "source": [
    "pickle_result = open('result_mb_25.pickle', 'rb')\n",
    "result_mNet = pickle.load(pickle_result)"
   ]
  },
  {
   "cell_type": "code",
   "execution_count": 56,
   "metadata": {},
   "outputs": [],
   "source": [
    "result_VGG16 = pd.read_csv('2 - rerun Amazon_adam_VGG_24epochs/results_rerun2.csv', index_col=0)"
   ]
  },
  {
   "cell_type": "markdown",
   "metadata": {},
   "source": [
    "### VGG16 + MobileNet \n",
    "### Kaggle Score - 0.92758"
   ]
  },
  {
   "cell_type": "code",
   "execution_count": 15,
   "metadata": {},
   "outputs": [],
   "source": [
    "VGG_mNET_result = (result_VGG16 + result_mNet)/2"
   ]
  },
  {
   "cell_type": "code",
   "execution_count": 20,
   "metadata": {},
   "outputs": [
    {
     "name": "stderr",
     "output_type": "stream",
     "text": [
      "/usr/local/lib/python3.5/dist-packages/ipykernel_launcher.py:4: FutureWarning: \n",
      ".ix is deprecated. Please use\n",
      ".loc for label based indexing or\n",
      ".iloc for positional indexing\n",
      "\n",
      "See the documentation here:\n",
      "http://pandas.pydata.org/pandas-docs/stable/user_guide/indexing.html#ix-indexer-is-deprecated\n",
      "  after removing the cwd from sys.path.\n"
     ]
    }
   ],
   "source": [
    "THRES = [0.2] * 17\n",
    "preds = []\n",
    "for i in range(VGG_mNET_result.shape[0]):\n",
    "    a = VGG_mNET_result.ix[[i]]\n",
    "    a = a.apply(lambda x: x > THRES, axis=1)\n",
    "    a = a.transpose()\n",
    "    a = a.loc[a[i] == True]\n",
    "    ' '.join(list(a.index))\n",
    "    preds.append(' '.join(list(a.index)))"
   ]
  },
  {
   "cell_type": "code",
   "execution_count": 21,
   "metadata": {},
   "outputs": [],
   "source": [
    "df_test['tags'] = preds\n",
    "df_test['image_name'] = df_test['image_name'].astype(str)\n",
    "df_test.to_csv('ensemble_VGG_mNET-submit.csv', index=False)"
   ]
  },
  {
   "cell_type": "markdown",
   "metadata": {},
   "source": [
    "#### All Models - 0.91339"
   ]
  },
  {
   "cell_type": "code",
   "execution_count": 14,
   "metadata": {},
   "outputs": [],
   "source": [
    "result_VGG16 = pd.read_csv('2 - rerun Amazon_adam_VGG_24epochs/results_rerun2.csv', index_col=0)\n",
    "# result_mNet = result_mNet\n",
    "result_CNN = pd.read_csv('result_cnn.csv', index_col=0)\n",
    "result_RESNET = pd.read_csv('res_res_25ep_2cv.csv', index_col=0)\n",
    "result_XGB = pd.read_csv('result_xgb_0.3.csv')\n",
    "result_XGB = result_XGB.reindex(sorted(result_XGB.columns), axis=1)\n",
    "results_rareLabels = pd.read_csv('rare_pred_test_thresh5.csv', index_col=0)\n",
    "\n",
    "# result_ENSEMBLE = (result_VGG16 + result_mNet + result_CNN + result_RESNET + result_XGB)/5\n",
    "# result_ENSEMBLE[rare] = results_rareLabels[rare]"
   ]
  },
  {
   "cell_type": "code",
   "execution_count": 54,
   "metadata": {},
   "outputs": [
    {
     "name": "stderr",
     "output_type": "stream",
     "text": [
      "/usr/local/lib/python3.5/dist-packages/ipykernel_launcher.py:4: FutureWarning: \n",
      ".ix is deprecated. Please use\n",
      ".loc for label based indexing or\n",
      ".iloc for positional indexing\n",
      "\n",
      "See the documentation here:\n",
      "http://pandas.pydata.org/pandas-docs/stable/user_guide/indexing.html#ix-indexer-is-deprecated\n",
      "  after removing the cwd from sys.path.\n"
     ]
    }
   ],
   "source": [
    "THRES = [0.2] * 17\n",
    "preds = []\n",
    "for i in range(result_ENSEMBLE.shape[0]):\n",
    "    a = result_ENSEMBLE.ix[[i]]\n",
    "    a = a.apply(lambda x: x > THRES, axis=1)\n",
    "    a = a.transpose()\n",
    "    a = a.loc[a[i] == True]\n",
    "    ' '.join(list(a.index))\n",
    "    preds.append(' '.join(list(a.index)))"
   ]
  },
  {
   "cell_type": "code",
   "execution_count": 55,
   "metadata": {},
   "outputs": [],
   "source": [
    "df_test['tags'] = preds\n",
    "df_test['image_name'] = df_test['image_name'].astype(str)\n",
    "df_test.to_csv('ensemble_FULL-submit.csv', index=False)"
   ]
  },
  {
   "cell_type": "markdown",
   "metadata": {},
   "source": [
    "#### All without RARE - 0.91911"
   ]
  },
  {
   "cell_type": "code",
   "execution_count": 57,
   "metadata": {},
   "outputs": [],
   "source": [
    "result_ENSEMBLE = (result_VGG16 + result_mNet + result_CNN + result_RESNET + result_XGB)/5"
   ]
  },
  {
   "cell_type": "code",
   "execution_count": 59,
   "metadata": {},
   "outputs": [
    {
     "name": "stderr",
     "output_type": "stream",
     "text": [
      "/usr/local/lib/python3.5/dist-packages/ipykernel_launcher.py:4: FutureWarning: \n",
      ".ix is deprecated. Please use\n",
      ".loc for label based indexing or\n",
      ".iloc for positional indexing\n",
      "\n",
      "See the documentation here:\n",
      "http://pandas.pydata.org/pandas-docs/stable/user_guide/indexing.html#ix-indexer-is-deprecated\n",
      "  after removing the cwd from sys.path.\n"
     ]
    }
   ],
   "source": [
    "THRES = [0.2] * 17\n",
    "preds = []\n",
    "for i in range(result_ENSEMBLE.shape[0]):\n",
    "    a = result_ENSEMBLE.ix[[i]]\n",
    "    a = a.apply(lambda x: x > THRES, axis=1)\n",
    "    a = a.transpose()\n",
    "    a = a.loc[a[i] == True]\n",
    "    ' '.join(list(a.index))\n",
    "    preds.append(' '.join(list(a.index)))"
   ]
  },
  {
   "cell_type": "code",
   "execution_count": 60,
   "metadata": {},
   "outputs": [],
   "source": [
    "df_test['tags'] = preds\n",
    "df_test['image_name'] = df_test['image_name'].astype(str)\n",
    "df_test.to_csv('ensemble_NO RARE-submit.csv', index=False)"
   ]
  },
  {
   "cell_type": "markdown",
   "metadata": {},
   "source": [
    "#### All without (RARE + XGB)"
   ]
  },
  {
   "cell_type": "code",
   "execution_count": 61,
   "metadata": {},
   "outputs": [
    {
     "name": "stderr",
     "output_type": "stream",
     "text": [
      "/usr/local/lib/python3.5/dist-packages/ipykernel_launcher.py:5: FutureWarning: \n",
      ".ix is deprecated. Please use\n",
      ".loc for label based indexing or\n",
      ".iloc for positional indexing\n",
      "\n",
      "See the documentation here:\n",
      "http://pandas.pydata.org/pandas-docs/stable/user_guide/indexing.html#ix-indexer-is-deprecated\n",
      "  \"\"\"\n"
     ]
    }
   ],
   "source": [
    "result_ENSEMBLE = (result_VGG16 + result_mNet + result_CNN + result_RESNET)/4\n",
    "THRES = [0.2] * 17\n",
    "preds = []\n",
    "for i in range(result_ENSEMBLE.shape[0]):\n",
    "    a = result_ENSEMBLE.ix[[i]]\n",
    "    a = a.apply(lambda x: x > THRES, axis=1)\n",
    "    a = a.transpose()\n",
    "    a = a.loc[a[i] == True]\n",
    "    ' '.join(list(a.index))\n",
    "    preds.append(' '.join(list(a.index)))"
   ]
  },
  {
   "cell_type": "code",
   "execution_count": 62,
   "metadata": {},
   "outputs": [],
   "source": [
    "df_test['tags'] = preds\n",
    "df_test['image_name'] = df_test['image_name'].astype(str)\n",
    "df_test.to_csv('ensemble_NO RARE XGB-submit.csv', index=False)"
   ]
  },
  {
   "cell_type": "markdown",
   "metadata": {},
   "source": [
    "#### VGG + Rare + Mobile Net + Haze"
   ]
  },
  {
   "cell_type": "code",
   "execution_count": 25,
   "metadata": {},
   "outputs": [],
   "source": [
    "results_rareLabels = pd.read_csv('rare_pred_test_thresh5.csv', index_col=0)\n",
    "result_ENSEMBLE = result_mNet_haze.copy()\n",
    "result_ENSEMBLE[rare] = (result_ENSEMBLE[rare] + results_rareLabels)/2\n",
    "result_ENSEMBLE[result_ENSEMBLE.columns.difference(rare)] = (result_mNet_haze[result_mNet_haze.columns.difference(rare)] + result_mNet_VGG[result_mNet_VGG.columns.difference(rare)])/2"
   ]
  },
  {
   "cell_type": "code",
   "execution_count": 43,
   "metadata": {},
   "outputs": [
    {
     "name": "stderr",
     "output_type": "stream",
     "text": [
      "/usr/local/lib/python3.5/dist-packages/ipykernel_launcher.py:4: FutureWarning: \n",
      ".ix is deprecated. Please use\n",
      ".loc for label based indexing or\n",
      ".iloc for positional indexing\n",
      "\n",
      "See the documentation here:\n",
      "http://pandas.pydata.org/pandas-docs/stable/user_guide/indexing.html#ix-indexer-is-deprecated\n",
      "  after removing the cwd from sys.path.\n"
     ]
    }
   ],
   "source": [
    "THRES = [0.2] * 17\n",
    "preds = []\n",
    "for i in range(result_ENSEMBLE.shape[0]):\n",
    "    a = result_ENSEMBLE.ix[[i]]\n",
    "    a = a.apply(lambda x: x > THRES, axis=1)\n",
    "    a = a.transpose()\n",
    "    a = a.loc[a[i] == True]\n",
    "    ' '.join(list(a.index))\n",
    "    preds.append(' '.join(list(a.index)))"
   ]
  },
  {
   "cell_type": "code",
   "execution_count": 45,
   "metadata": {},
   "outputs": [],
   "source": [
    "df_test['tags'] = preds\n",
    "df_test['image_name'] = df_test['image_name'].astype(str)\n",
    "df_test.to_csv('ensemble_VGG_RARE_Mnet_Haze.csv', index=False)"
   ]
  },
  {
   "cell_type": "markdown",
   "metadata": {},
   "source": [
    "##### VGG + mobileNet + Rare imported from Mnet"
   ]
  },
  {
   "cell_type": "code",
   "execution_count": 57,
   "metadata": {},
   "outputs": [],
   "source": [
    "VGG_mNET_result = result_VGG16\n",
    "VGG_mNET_result[VGG_mNET_result.columns.difference(rare)] = ( result_VGG16[result_VGG16.columns.difference(rare)] + result_mNet[result_mNet.columns.difference(rare)] ) / 2"
   ]
  },
  {
   "cell_type": "code",
   "execution_count": 59,
   "metadata": {},
   "outputs": [],
   "source": [
    "VGG_mNET_result[rare] = result_mNet[rare]"
   ]
  },
  {
   "cell_type": "code",
   "execution_count": 62,
   "metadata": {},
   "outputs": [],
   "source": [
    "result_ENSEMBLE = VGG_mNET_result.copy()"
   ]
  },
  {
   "cell_type": "code",
   "execution_count": 63,
   "metadata": {},
   "outputs": [
    {
     "name": "stderr",
     "output_type": "stream",
     "text": [
      "/usr/local/lib/python3.5/dist-packages/ipykernel_launcher.py:4: FutureWarning: \n",
      ".ix is deprecated. Please use\n",
      ".loc for label based indexing or\n",
      ".iloc for positional indexing\n",
      "\n",
      "See the documentation here:\n",
      "http://pandas.pydata.org/pandas-docs/stable/user_guide/indexing.html#ix-indexer-is-deprecated\n",
      "  after removing the cwd from sys.path.\n"
     ]
    }
   ],
   "source": [
    "THRES = [0.2] * 17\n",
    "preds = []\n",
    "for i in range(result_ENSEMBLE.shape[0]):\n",
    "    a = result_ENSEMBLE.ix[[i]]\n",
    "    a = a.apply(lambda x: x > THRES, axis=1)\n",
    "    a = a.transpose()\n",
    "    a = a.loc[a[i] == True]\n",
    "    ' '.join(list(a.index))\n",
    "    preds.append(' '.join(list(a.index)))"
   ]
  },
  {
   "cell_type": "code",
   "execution_count": 65,
   "metadata": {},
   "outputs": [],
   "source": [
    "df_test['tags'] = preds\n",
    "df_test['image_name'] = df_test['image_name'].astype(str)\n",
    "df_test.to_csv('ensemble_VGG_Mnet_RarefromMnet.csv', index=False)"
   ]
  },
  {
   "cell_type": "markdown",
   "metadata": {},
   "source": [
    "### Kaggle Score - 0.92751"
   ]
  },
  {
   "cell_type": "code",
   "execution_count": null,
   "metadata": {},
   "outputs": [],
   "source": []
  }
 ],
 "metadata": {
  "kernelspec": {
   "display_name": "Python 3",
   "language": "python",
   "name": "python3"
  },
  "language_info": {
   "codemirror_mode": {
    "name": "ipython",
    "version": 3
   },
   "file_extension": ".py",
   "mimetype": "text/x-python",
   "name": "python",
   "nbconvert_exporter": "python",
   "pygments_lexer": "ipython3",
   "version": "3.5.3"
  }
 },
 "nbformat": 4,
 "nbformat_minor": 4
}
